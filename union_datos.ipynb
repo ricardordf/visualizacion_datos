{
  "cells": [
    {
      "cell_type": "markdown",
      "metadata": {},
      "source": [
        "## Unión de CSV's por aeropuerto"
      ]
    },
    {
      "cell_type": "markdown",
      "metadata": {
        "id": "j1gYI7YQFckY"
      },
      "source": [
        "Importar librerias con las que trabajaremos"
      ]
    },
    {
      "cell_type": "code",
      "execution_count": 5,
      "metadata": {
        "id": "2ev0bAeOFEV3"
      },
      "outputs": [],
      "source": [
        "#Glosario de imports\n",
        "import pandas as pd"
      ]
    },
    {
      "cell_type": "markdown",
      "metadata": {},
      "source": [
        "Cargamos cada CSV en un dataframe diferente"
      ]
    },
    {
      "cell_type": "code",
      "execution_count": 6,
      "metadata": {},
      "outputs": [],
      "source": [
        "#Cargamos los archivos CSV, por cada aeropuerto, se han renombrado los archivos añadiento las siglas del aeropuerto y una _ \n",
        "miscellaneous_df = pd.read_csv('GCLP_Miscellaneous.csv', delimiter=';')\n",
        "phenomena_df = pd.read_csv('GCLP_Phenomena.csv', delimiter=';')\n",
        "clouds_df = pd.read_csv('GCLP_Clouds.csv', delimiter=';')"
      ]
    },
    {
      "cell_type": "markdown",
      "metadata": {},
      "source": [
        "Combinamos los dataframes en uno solo mediante JOIN"
      ]
    },
    {
      "cell_type": "code",
      "execution_count": 7,
      "metadata": {},
      "outputs": [],
      "source": [
        "#Combinamos los dataframes en uno solo utilizando un JOIN de tipo \"outer\" para mantener todas la información de ambos (existen registros duplicados)\n",
        "#La unión se realizado por los campos que se muestran a continuación:\n",
        "combined_df = pd.merge(miscellaneous_df, phenomena_df, on=['dateTime', 'next_dateTime', 'arr_volume_group', 'dep_volume_group', 'volume_group', 'metarKey'], how='outer')\n",
        "combined_df = pd.merge(combined_df, clouds_df, on=['dateTime', 'next_dateTime', 'arr_volume_group', 'dep_volume_group', 'volume_group', 'metarKey'], how='outer')"
      ]
    },
    {
      "cell_type": "markdown",
      "metadata": {},
      "source": [
        "Guardamos el nuevo archivo CSV"
      ]
    },
    {
      "cell_type": "code",
      "execution_count": 8,
      "metadata": {},
      "outputs": [],
      "source": [
        "#Convertimos el dataframe en un CSV y lo guardamos en la ruta que queramos\n",
        "combined_df.to_csv('GCLP_All.csv', index=False)"
      ]
    },
    {
      "cell_type": "markdown",
      "metadata": {},
      "source": [
        "Ricardo Delgado Fernández - 21844773\n",
        "\n",
        "Máster en Industria 4.0 Híbrido\n",
        "\n",
        "Universidad Europea de Madrid"
      ]
    }
  ],
  "metadata": {
    "colab": {
      "provenance": []
    },
    "kernelspec": {
      "display_name": "Python 3",
      "name": "python3"
    },
    "language_info": {
      "codemirror_mode": {
        "name": "ipython",
        "version": 3
      },
      "file_extension": ".py",
      "mimetype": "text/x-python",
      "name": "python",
      "nbconvert_exporter": "python",
      "pygments_lexer": "ipython3",
      "version": "3.11.9"
    }
  },
  "nbformat": 4,
  "nbformat_minor": 0
}
